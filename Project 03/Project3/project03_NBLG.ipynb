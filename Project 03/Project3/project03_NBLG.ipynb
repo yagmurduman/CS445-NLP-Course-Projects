{
  "nbformat": 4,
  "nbformat_minor": 0,
  "metadata": {
    "colab": {
      "name": "project03_NBLG.ipynb",
      "provenance": [],
      "collapsed_sections": []
    },
    "kernelspec": {
      "display_name": "Python 3",
      "name": "python3"
    }
  },
  "cells": [
    {
      "cell_type": "code",
      "metadata": {
        "id": "CC81qZsE898J"
      },
      "source": [
        "import matplotlib.pyplot as plt\r\n",
        "from sklearn.naive_bayes import GaussianNB\r\n",
        "from sklearn.linear_model import LogisticRegression\r\n",
        "from sklearn.model_selection import train_test_split\r\n",
        "from sklearn.metrics import classification_report, confusion_matrix, accuracy_score\r\n",
        "import numpy as np"
      ],
      "execution_count": 10,
      "outputs": []
    },
    {
      "cell_type": "code",
      "metadata": {
        "colab": {
          "base_uri": "https://localhost:8080/",
          "height": 202
        },
        "id": "9xj0iv6c9Tf7",
        "outputId": "fdc6bc22-6df6-4ead-9b08-417a0bb943a0"
      },
      "source": [
        "import pandas as pd \r\n",
        "traindata = pd.read_csv(\"train.csv\",  encoding='utf8' )\r\n",
        "del traindata['Unnamed: 0']\r\n",
        "traindata.head()"
      ],
      "execution_count": 11,
      "outputs": [
        {
          "output_type": "execute_result",
          "data": {
            "text/html": [
              "<div>\n",
              "<style scoped>\n",
              "    .dataframe tbody tr th:only-of-type {\n",
              "        vertical-align: middle;\n",
              "    }\n",
              "\n",
              "    .dataframe tbody tr th {\n",
              "        vertical-align: top;\n",
              "    }\n",
              "\n",
              "    .dataframe thead th {\n",
              "        text-align: right;\n",
              "    }\n",
              "</style>\n",
              "<table border=\"1\" class=\"dataframe\">\n",
              "  <thead>\n",
              "    <tr style=\"text-align: right;\">\n",
              "      <th></th>\n",
              "      <th>id</th>\n",
              "      <th>text</th>\n",
              "      <th>label</th>\n",
              "    </tr>\n",
              "  </thead>\n",
              "  <tbody>\n",
              "    <tr>\n",
              "      <th>0</th>\n",
              "      <td>547530</td>\n",
              "      <td>Beşiktaş'ın eski teknik direktörü Slaven Bilic...</td>\n",
              "      <td>spor</td>\n",
              "    </tr>\n",
              "    <tr>\n",
              "      <th>1</th>\n",
              "      <td>42683</td>\n",
              "      <td>14 Şubat, Katolik Kilisesi’nin azizlerinden St...</td>\n",
              "      <td>yazarlar</td>\n",
              "    </tr>\n",
              "    <tr>\n",
              "      <th>2</th>\n",
              "      <td>770925</td>\n",
              "      <td>İstanbul Kağıthane’de gece yarısı sokakta oyun...</td>\n",
              "      <td>video</td>\n",
              "    </tr>\n",
              "    <tr>\n",
              "      <th>3</th>\n",
              "      <td>473224</td>\n",
              "      <td>Ziraat Türkiye Kupası maçında deplasmanda Amed...</td>\n",
              "      <td>video</td>\n",
              "    </tr>\n",
              "    <tr>\n",
              "      <th>4</th>\n",
              "      <td>44833</td>\n",
              "      <td>Eski Brezilyalı yıldız oyuncu Ronaldo, Brezily...</td>\n",
              "      <td>spor</td>\n",
              "    </tr>\n",
              "  </tbody>\n",
              "</table>\n",
              "</div>"
            ],
            "text/plain": [
              "       id                                               text     label\n",
              "0  547530  Beşiktaş'ın eski teknik direktörü Slaven Bilic...      spor\n",
              "1   42683  14 Şubat, Katolik Kilisesi’nin azizlerinden St...  yazarlar\n",
              "2  770925  İstanbul Kağıthane’de gece yarısı sokakta oyun...     video\n",
              "3  473224  Ziraat Türkiye Kupası maçında deplasmanda Amed...     video\n",
              "4   44833  Eski Brezilyalı yıldız oyuncu Ronaldo, Brezily...      spor"
            ]
          },
          "metadata": {
            "tags": []
          },
          "execution_count": 11
        }
      ]
    },
    {
      "cell_type": "markdown",
      "metadata": {
        "id": "w8QWepFoa5j1"
      },
      "source": [
        "Getting train and test data"
      ]
    },
    {
      "cell_type": "code",
      "metadata": {
        "id": "deSw7FVBWzz1"
      },
      "source": [
        "testdata = pd.read_csv(\"test.csv\",  encoding='utf8' )\r\n",
        "del testdata['Unnamed: 0']\r\n",
        "\r\n",
        "#Consider the input values for X and y\r\n",
        "X_train = traindata['text']\r\n",
        "y_train = traindata['label']\r\n",
        "\r\n",
        "X_test = testdata['text']\r\n",
        "y_test = testdata['label']\r\n"
      ],
      "execution_count": 12,
      "outputs": []
    },
    {
      "cell_type": "markdown",
      "metadata": {
        "id": "5HxIoWT79GG8"
      },
      "source": [
        "Importing Neccessary Libraries "
      ]
    },
    {
      "cell_type": "code",
      "metadata": {
        "id": "yhCVU_CX9FOu"
      },
      "source": [
        "from sklearn.model_selection import GridSearchCV\r\n",
        "from sklearn.metrics import classification_report, confusion_matrix, accuracy_score\r\n",
        "from sklearn.pipeline import Pipeline\r\n",
        "from sklearn.feature_extraction.text import TfidfVectorizer\r\n",
        "from sklearn.linear_model import LogisticRegression\r\n",
        "from time import time\r\n",
        "from pprint import pprint\r\n",
        "\r\n",
        "import nltk\r\n",
        "from nltk.corpus import stopwords\r\n",
        "nltk.download('stopwords')\r\n",
        "stop_words = set(stopwords.words(\"turkish\"))"
      ],
      "execution_count": null,
      "outputs": []
    },
    {
      "cell_type": "markdown",
      "metadata": {
        "id": "RPMwmQkCbAKU"
      },
      "source": [
        "Grid Search Naive Bayes"
      ]
    },
    {
      "cell_type": "code",
      "metadata": {
        "colab": {
          "base_uri": "https://localhost:8080/"
        },
        "id": "0iDGdfK9iSq5",
        "outputId": "7e674b2e-19e0-4a30-aa85-0ce9d2d3863a"
      },
      "source": [
        "pipeline = Pipeline(steps=[\r\n",
        "    ('tfidf', TfidfVectorizer()),\r\n",
        "    ('multinomialnb', MultinomialNB()),\r\n",
        "])\r\n",
        "\r\n",
        "parameters = {\r\n",
        "    'tfidf__ngram_range': ((1,1), (1,2)), \r\n",
        "    'tfidf__stop_words': (None, stop_words),\r\n",
        "    'tfidf__use_idf': (True, False),\r\n",
        "    'multinomialnb__alpha': (0.5, 1.0),\r\n",
        "    'multinomialnb__fit_prior': (True, False),\r\n",
        "}\r\n",
        "\r\n",
        "grid_search = GridSearchCV(pipeline, parameters, scoring='accuracy', verbose=1)\r\n",
        "\r\n",
        "grid_search.fit(X_train, y_train)\r\n",
        "\r\n",
        "\r\n",
        "print(\"Best score: %0.3f\" % grid_search.best_score_)\r\n",
        "print(\"Best parameters set:\")\r\n",
        "best_parameters = grid_search.best_estimator_.get_params()\r\n",
        "\r\n",
        "for param_name in sorted(parameters.keys()):\r\n",
        "  print(\"\\t%s: %r\" % (param_name, best_parameters[param_name]))\r\n",
        "\r\n",
        "print(classification_report(grid_search.predict(X_test), y_test))\r\n",
        "print ('\\n')\r\n",
        "print(confusion_matrix(y_test, grid_search.predict(X_test)))\r\n"
      ],
      "execution_count": null,
      "outputs": [
        {
          "output_type": "stream",
          "text": [
            "[nltk_data] Downloading package stopwords to /root/nltk_data...\n",
            "[nltk_data]   Unzipping corpora/stopwords.zip.\n",
            "Fitting 5 folds for each of 32 candidates, totalling 160 fits\n"
          ],
          "name": "stdout"
        },
        {
          "output_type": "stream",
          "text": [
            "[Parallel(n_jobs=1)]: Using backend SequentialBackend with 1 concurrent workers.\n",
            "[Parallel(n_jobs=1)]: Done 160 out of 160 | elapsed: 14.1min finished\n"
          ],
          "name": "stderr"
        },
        {
          "output_type": "stream",
          "text": [
            "Best score: 0.746\n",
            "Best parameters set:\n",
            "\tmultinomialnb__alpha: 0.5\n",
            "\tmultinomialnb__fit_prior: False\n",
            "\ttfidf__ngram_range: (1, 1)\n",
            "\ttfidf__stop_words: {'defa', 'gibi', 'nasıl', 'niçin', 'tüm', 'mu', 'sanki', 'siz', 'ama', 'her', 'hiç', 'ne', 'az', 'şey', 'hep', 'ya', 'ile', 'birkaç', 'kez', 'eğer', 'kim', 'mü', 'biri', 'aslında', 'belki', 'diye', 'hepsi', 'nereye', 'en', 'bu', 'da', 'hem', 'acaba', 'çünkü', 'yani', 'veya', 'nerde', 've', 'çok', 'mı', 'için', 'nerede', 'niye', 'ise', 'ki', 'de', 'neden', 'birşey', 'bazı', 'biz', 'daha', 'şu', 'o'}\n",
            "\ttfidf__use_idf: True\n",
            "              precision    recall  f1-score   support\n",
            "\n",
            "       dunya       0.81      0.81      0.81       394\n",
            "        spor       0.95      0.90      0.92       405\n",
            "     turkiye       0.70      0.60      0.65       490\n",
            "       video       0.26      0.92      0.41       117\n",
            "    yazarlar       0.97      0.64      0.77       594\n",
            "\n",
            "    accuracy                           0.73      2000\n",
            "   macro avg       0.74      0.78      0.71      2000\n",
            "weighted avg       0.83      0.73      0.76      2000\n",
            "\n",
            "\n",
            "\n",
            "[[320   4  24   4  43]\n",
            " [  4 364   6   0  10]\n",
            " [ 26   3 296   5  91]\n",
            " [ 42  28 162 108  68]\n",
            " [  2   6   2   0 382]]\n"
          ],
          "name": "stdout"
        }
      ]
    },
    {
      "cell_type": "markdown",
      "metadata": {
        "id": "2VKWWxRybF2r"
      },
      "source": [
        "Grid Search Logistic Regression Comparing Solvers"
      ]
    },
    {
      "cell_type": "code",
      "metadata": {
        "colab": {
          "base_uri": "https://localhost:8080/"
        },
        "id": "lQuMXnpnZXUO",
        "outputId": "649f131e-7f98-46bf-e843-cd45a1456345"
      },
      "source": [
        "pipeline = Pipeline(steps=[\r\n",
        "    ('tfidf', TfidfVectorizer()),\r\n",
        "    ('clf', LogisticRegression(max_iter= 500)),\r\n",
        "])\r\n",
        "\r\n",
        "parameters = {\r\n",
        "    'tfidf__stop_words': (None, stop_words),\r\n",
        "    'clf__penalty' : ['l2'],\r\n",
        "    'clf__C' : (1.0, 10),\r\n",
        "    'clf__solver' : ['lbfgs', 'liblinear']\r\n",
        "}\r\n",
        "\r\n",
        "grid_search2 = GridSearchCV(pipeline, parameters, scoring='accuracy', verbose=1)\r\n",
        "\r\n",
        "grid_search2.fit(X_train, y_train)\r\n",
        "\r\n",
        "\r\n",
        "print(\"Best score: %0.3f\" % grid_search2.best_score_)\r\n",
        "print(\"Best parameters set:\")\r\n",
        "best_parameters = grid_search2.best_estimator_.get_params()\r\n",
        "\r\n",
        "for param_name in sorted(parameters.keys()):\r\n",
        "  print(\"\\t%s: %r\" % (param_name, best_parameters[param_name]))\r\n",
        "\r\n",
        "print(classification_report(grid_search2.predict(X_test), y_test))\r\n",
        "print ('\\n')\r\n",
        "print(confusion_matrix(y_test, grid_search2.predict(X_test)))"
      ],
      "execution_count": 17,
      "outputs": [
        {
          "output_type": "stream",
          "text": [
            "[nltk_data] Downloading package stopwords to /root/nltk_data...\n",
            "[nltk_data]   Package stopwords is already up-to-date!\n",
            "Fitting 5 folds for each of 8 candidates, totalling 40 fits\n"
          ],
          "name": "stdout"
        },
        {
          "output_type": "stream",
          "text": [
            "[Parallel(n_jobs=1)]: Using backend SequentialBackend with 1 concurrent workers.\n",
            "[Parallel(n_jobs=1)]: Done  40 out of  40 | elapsed: 11.0min finished\n"
          ],
          "name": "stderr"
        },
        {
          "output_type": "stream",
          "text": [
            "Best score: 0.843\n",
            "Best parameters set:\n",
            "\tclf__C: 10\n",
            "\tclf__penalty: 'l2'\n",
            "\tclf__solver: 'liblinear'\n",
            "\ttfidf__stop_words: None\n",
            "              precision    recall  f1-score   support\n",
            "\n",
            "       dunya       0.87      0.82      0.84       422\n",
            "        spor       0.95      0.94      0.95       388\n",
            "     turkiye       0.71      0.79      0.75       382\n",
            "       video       0.76      0.79      0.78       394\n",
            "    yazarlar       0.95      0.90      0.93       414\n",
            "\n",
            "    accuracy                           0.85      2000\n",
            "   macro avg       0.85      0.85      0.85      2000\n",
            "weighted avg       0.85      0.85      0.85      2000\n",
            "\n",
            "\n",
            "\n",
            "[[344   3  17  21  10]\n",
            " [  6 366   4   3   5]\n",
            " [ 37   2 300  57  25]\n",
            " [ 31  11  54 311   1]\n",
            " [  4   6   7   2 373]]\n"
          ],
          "name": "stdout"
        }
      ]
    },
    {
      "cell_type": "markdown",
      "metadata": {
        "id": "bqVZ3dyRe-Dj"
      },
      "source": [
        "Grid Search Logistic Regression Comparing Penalties"
      ]
    },
    {
      "cell_type": "code",
      "metadata": {
        "colab": {
          "base_uri": "https://localhost:8080/"
        },
        "id": "Gr6z1EJnStzd",
        "outputId": "93f84ab2-8654-4c61-d1ba-c4e7f6b12c08"
      },
      "source": [
        "pipeline = Pipeline(steps=[\r\n",
        "    ('tfidf', TfidfVectorizer()),\r\n",
        "    ('clf', LogisticRegression(max_iter= 500)),\r\n",
        "])\r\n",
        "\r\n",
        "parameters = {\r\n",
        "    'tfidf__stop_words': (None, stop_words),\r\n",
        "    'clf__penalty' : ['l1','l2'],\r\n",
        "    'clf__C' : (0.1, 1),\r\n",
        "    'clf__solver' : ['liblinear']\r\n",
        "}\r\n",
        "\r\n",
        "grid_search2 = GridSearchCV(pipeline, parameters, scoring='accuracy', verbose=1)\r\n",
        "\r\n",
        "grid_search2.fit(X_train, y_train)\r\n",
        "\r\n",
        "\r\n",
        "print(\"Best score: %0.3f\" % grid_search2.best_score_)\r\n",
        "print(\"Best parameters set:\")\r\n",
        "best_parameters = grid_search2.best_estimator_.get_params()\r\n",
        "\r\n",
        "for param_name in sorted(parameters.keys()):\r\n",
        "  print(\"\\t%s: %r\" % (param_name, best_parameters[param_name]))\r\n",
        "\r\n",
        "print(classification_report(grid_search2.predict(X_test), y_test))\r\n",
        "print ('\\n')\r\n",
        "print(confusion_matrix(y_test, grid_search2.predict(X_test)))"
      ],
      "execution_count": 19,
      "outputs": [
        {
          "output_type": "stream",
          "text": [
            "[nltk_data] Downloading package stopwords to /root/nltk_data...\n",
            "[nltk_data]   Package stopwords is already up-to-date!\n",
            "Fitting 5 folds for each of 8 candidates, totalling 40 fits\n"
          ],
          "name": "stdout"
        },
        {
          "output_type": "stream",
          "text": [
            "[Parallel(n_jobs=1)]: Using backend SequentialBackend with 1 concurrent workers.\n",
            "[Parallel(n_jobs=1)]: Done  40 out of  40 | elapsed:  3.3min finished\n"
          ],
          "name": "stderr"
        },
        {
          "output_type": "stream",
          "text": [
            "Best score: 0.843\n",
            "Best parameters set:\n",
            "\tclf__C: 10\n",
            "\tclf__penalty: 'l2'\n",
            "\tclf__solver: 'liblinear'\n",
            "\ttfidf__stop_words: None\n",
            "              precision    recall  f1-score   support\n",
            "\n",
            "       dunya       0.87      0.82      0.84       422\n",
            "        spor       0.95      0.94      0.95       388\n",
            "     turkiye       0.71      0.79      0.75       382\n",
            "       video       0.76      0.79      0.78       394\n",
            "    yazarlar       0.95      0.90      0.93       414\n",
            "\n",
            "    accuracy                           0.85      2000\n",
            "   macro avg       0.85      0.85      0.85      2000\n",
            "weighted avg       0.85      0.85      0.85      2000\n",
            "\n",
            "\n",
            "\n",
            "[[344   3  17  21  10]\n",
            " [  6 366   4   3   5]\n",
            " [ 37   2 300  57  25]\n",
            " [ 31  11  54 311   1]\n",
            " [  4   6   7   2 373]]\n"
          ],
          "name": "stdout"
        }
      ]
    }
  ]
}