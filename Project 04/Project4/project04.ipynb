{
  "nbformat": 4,
  "nbformat_minor": 0,
  "metadata": {
    "colab": {
      "name": "project04.ipynb",
      "provenance": []
    },
    "kernelspec": {
      "name": "python3",
      "display_name": "Python 3"
    }
  },
  "cells": [
    {
      "cell_type": "code",
      "metadata": {
        "colab": {
          "base_uri": "https://localhost:8080/"
        },
        "id": "cqYogOaNvt28",
        "outputId": "9803fc26-e661-4529-813a-9ab9181dcc87"
      },
      "source": [
        "pip install sklearn-crfsuite"
      ],
      "execution_count": 1,
      "outputs": [
        {
          "output_type": "stream",
          "text": [
            "Requirement already satisfied: sklearn-crfsuite in /usr/local/lib/python3.6/dist-packages (0.3.6)\n",
            "Requirement already satisfied: python-crfsuite>=0.8.3 in /usr/local/lib/python3.6/dist-packages (from sklearn-crfsuite) (0.9.7)\n",
            "Requirement already satisfied: tqdm>=2.0 in /usr/local/lib/python3.6/dist-packages (from sklearn-crfsuite) (4.41.1)\n",
            "Requirement already satisfied: six in /usr/local/lib/python3.6/dist-packages (from sklearn-crfsuite) (1.15.0)\n",
            "Requirement already satisfied: tabulate in /usr/local/lib/python3.6/dist-packages (from sklearn-crfsuite) (0.8.7)\n"
          ],
          "name": "stdout"
        }
      ]
    },
    {
      "cell_type": "code",
      "metadata": {
        "id": "0lj__t2rLx-i"
      },
      "source": [
        "whole = []\r\n",
        "\r\n",
        "with open(\"NE.txt\") as txt:\r\n",
        "  for line in txt:\r\n",
        "    whole.append(line)\r\n",
        "  "
      ],
      "execution_count": 2,
      "outputs": []
    },
    {
      "cell_type": "code",
      "metadata": {
        "id": "xboaN_iJPt_N"
      },
      "source": [
        "%matplotlib inline\r\n",
        "import matplotlib.pyplot as plt\r\n",
        "plt.style.use('ggplot')\r\n",
        "\r\n",
        "from itertools import chain\r\n",
        "\r\n",
        "import nltk\r\n",
        "import sklearn\r\n",
        "import scipy.stats\r\n",
        "from sklearn.metrics import make_scorer\r\n",
        "import sklearn_crfsuite\r\n",
        "from sklearn_crfsuite import scorers\r\n",
        "from sklearn_crfsuite import metrics\r\n",
        "\r\n",
        "\r\n",
        "\r\n"
      ],
      "execution_count": 3,
      "outputs": []
    },
    {
      "cell_type": "code",
      "metadata": {
        "id": "1iq6VQJWX3B1"
      },
      "source": [
        " a = open(r'location.csv', encoding=\"utf8\")\r\n",
        "LOCATIONS = a.read().splitlines()\r\n",
        "for i in range(len(LOCATIONS)):\r\n",
        "  LOCATIONS[i] = LOCATIONS[i].lower()\r\n",
        "\r\n",
        "for location in LOCATIONS:\r\n",
        "  if (location.find('�') != -1):\r\n",
        "    LOCATIONS.remove(location)\r\n",
        "\r\n",
        "a.close()"
      ],
      "execution_count": 4,
      "outputs": []
    },
    {
      "cell_type": "code",
      "metadata": {
        "colab": {
          "base_uri": "https://localhost:8080/"
        },
        "id": "E5EWJMmVOHsy",
        "outputId": "3119a078-c029-49dd-d3e6-2e79d4bf7d12"
      },
      "source": [
        "morphanalysis = []\r\n",
        "with open(\"NE.ma.txt\") as txt:\r\n",
        "  morphanalysis = txt.readlines()\r\n",
        "\r\n",
        "morphs = []\r\n",
        "X_train = []\r\n",
        "for morph in morphanalysis:\r\n",
        "  morph = morph.split()\r\n",
        "  morphs.append(morph)\r\n",
        "\r\n",
        "import itertools\r\n",
        "key_f = lambda x: x[0]\r\n",
        "\r\n",
        "morphlist = []\r\n",
        "for key, group in itertools.groupby(morphs, key_f):\r\n",
        "  morphlist.append(list(group))\r\n",
        "\r\n",
        "\r\n",
        "for morph in morphlist:\r\n",
        "  sentmorph = []\r\n",
        "  featurelist = []\r\n",
        "\r\n",
        "\r\n",
        "  for m in morph:\r\n",
        "    analysis = m[2].split('+')\r\n",
        "    #STEM\r\n",
        "    stem = analysis[0]\r\n",
        "    \r\n",
        "    #POS\r\n",
        "    if stem == '*UNKNOWN*':\r\n",
        "      POS = 0\r\n",
        "    else:\r\n",
        "      POS = analysis[1]\r\n",
        "\r\n",
        "    #PROP\r\n",
        "    if 'Prop' in analysis:\r\n",
        "      PROP = 1\r\n",
        "    else:\r\n",
        "      PROP = 0\r\n",
        "\r\n",
        "    #NCS\r\n",
        "    if analysis[-1] == 'Nom':\r\n",
        "      NCS = 'Nom'\r\n",
        "    \r\n",
        "    elif analysis[-1] == 'Acc':\r\n",
        "      NCS = 'Acc'\r\n",
        "    \r\n",
        "    elif analysis[-1] == 'Dat':\r\n",
        "      NCS = 'Dat'\r\n",
        "\r\n",
        "    elif analysis[-1] == 'Abl':\r\n",
        "      NCS = 'Abl'\r\n",
        "    \r\n",
        "    elif analysis[-1] == 'Loc':\r\n",
        "      NCS = 'Loc'\r\n",
        "  \r\n",
        "    elif analysis[-1] == 'Gen':\r\n",
        "      NCS = 'Gen'\r\n",
        "\r\n",
        "    elif analysis[-1] == 'Ins':\r\n",
        "      NCS = 'Ins'\r\n",
        "\r\n",
        "    elif analysis[-1] == 'Equ':\r\n",
        "      NCS = 'Equ'\r\n",
        "    \r\n",
        "    else:    \r\n",
        "      NCS = 0\r\n",
        "\r\n",
        "    #SS\r\n",
        "    if len(sentmorph) == 0:\r\n",
        "      SS = 1\r\n",
        "    else:\r\n",
        "      SS = 0\r\n",
        "\r\n",
        "    #OCS\r\n",
        "    if m[1][0].isupper() == True:\r\n",
        "      OCS = 1\r\n",
        "    else:\r\n",
        "      OCS = 0\r\n",
        "\r\n",
        "    #LOCLEXICON\r\n",
        "    if m[1].lower() in LOCATIONS:\r\n",
        "      LOCLEXICON = 1\r\n",
        "    else:\r\n",
        "      LOCLEXICON = 0\r\n",
        "   \r\n",
        "    \"\"\"   \r\n",
        "    #INF\r\n",
        "    if len(analysis) > 2:\r\n",
        "      temp = analysis[2]\r\n",
        "      for e in analysis[3:]:\r\n",
        "        temp += '+' + e\r\n",
        "      INF = temp\r\n",
        "    else:\r\n",
        "      INF = 0\r\n",
        "    \"\"\"\r\n",
        "    \r\n",
        "    feature = {\r\n",
        "        #\"INF\": INF,\r\n",
        "        \"Stem\": stem,\r\n",
        "        \"POS\": POS,\r\n",
        "        \"PROP\" : PROP,\r\n",
        "        \"NCS\": NCS,\r\n",
        "        \"SS\": SS,\r\n",
        "        \"OCS\": OCS,\r\n",
        "        \"LOCLEXICON\": LOCLEXICON,\r\n",
        "    }\r\n",
        "    sentmorph.append(feature)\r\n",
        "  \r\n",
        "  X_train.append(sentmorph)\r\n",
        "\r\n",
        "\r\n",
        "X_train1 = []\r\n",
        "X_train2 = []\r\n",
        "X_train3 = []\r\n",
        "X_train4 = []\r\n",
        "X_train5 = []\r\n",
        "i=1\r\n",
        "for element in X_train:\r\n",
        "    if i%5 == 1:\r\n",
        "      X_train1.append(element)\r\n",
        "    if i%5 == 2:\r\n",
        "      X_train2.append(element)\r\n",
        "    if i%5 == 3:\r\n",
        "      X_train3.append(element)\r\n",
        "    if i%5 == 4:\r\n",
        "      X_train4.append(element)\r\n",
        "    if i%5 == 0:\r\n",
        "      X_train5.append(element)\r\n",
        "    i += 1\r\n",
        "\r\n",
        "\r\n",
        "print(X_train[6])\r\n"
      ],
      "execution_count": 5,
      "outputs": [
        {
          "output_type": "stream",
          "text": [
            "[{'Stem': 'Venedik', 'POS': 'Noun', 'PROP': 1, 'NCS': 'Nom', 'SS': 1, 'OCS': 1, 'LOCLEXICON': 0}, {'Stem': 'film', 'POS': 'Noun', 'PROP': 0, 'NCS': 'Nom', 'SS': 0, 'OCS': 1, 'LOCLEXICON': 0}, {'Stem': 'festival', 'POS': 'Noun', 'PROP': 0, 'NCS': 'Nom', 'SS': 0, 'OCS': 1, 'LOCLEXICON': 0}, {'Stem': ',', 'POS': 'Punct', 'PROP': 0, 'NCS': 0, 'SS': 0, 'OCS': 0, 'LOCLEXICON': 0}, {'Stem': 'büyük', 'POS': 'Adj', 'PROP': 0, 'NCS': 0, 'SS': 0, 'OCS': 0, 'LOCLEXICON': 0}, {'Stem': 'final', 'POS': 'Noun', 'PROP': 0, 'NCS': 'Dat', 'SS': 0, 'OCS': 0, 'LOCLEXICON': 0}, {'Stem': 'heyecan', 'POS': 'Noun', 'PROP': 0, 'NCS': 0, 'SS': 0, 'OCS': 0, 'LOCLEXICON': 0}, {'Stem': 'yaklaş', 'POS': 'Verb', 'PROP': 0, 'NCS': 0, 'SS': 0, 'OCS': 0, 'LOCLEXICON': 0}]\n"
          ],
          "name": "stdout"
        }
      ]
    },
    {
      "cell_type": "code",
      "metadata": {
        "id": "ez0K0arZbLfX"
      },
      "source": [
        "import re\r\n",
        "from nltk.tokenize import word_tokenize\r\n",
        "\r\n",
        "\r\n",
        "orglist =[]\r\n",
        "loclist =[]\r\n",
        "personlist =[]\r\n",
        "labels = []\r\n",
        "for e in whole:\r\n",
        "  org = re.findall(r'(?<=<b_enamex TYPE=\\\"ORGANIZATION\\\">)[\\w\\s]+(?=<e_enamex>)', e)\r\n",
        "  loc = re.findall(r'(?<=<b_enamex TYPE=\\\"LOCATION\\\">)[\\w\\s]+(?=<e_enamex>)', e)\r\n",
        "  person = re.findall(r'(?<=<b_enamex TYPE=\\\"PERSON\\\">)[\\w\\s]+(?=<e_enamex>)', e)\r\n",
        "  \r\n",
        "  for o in org:\r\n",
        "    orglist.append(o)\r\n",
        "  for l in loc:\r\n",
        "    loclist.append(l)\r\n",
        "  for p in person:\r\n",
        "    personlist.append(p)\r\n",
        "\r\n"
      ],
      "execution_count": 6,
      "outputs": []
    },
    {
      "cell_type": "code",
      "metadata": {
        "colab": {
          "base_uri": "https://localhost:8080/"
        },
        "id": "OWrugJ-D41kZ",
        "outputId": "83c1a72c-0e06-4e1c-b0e2-dc4dd9f3fce4"
      },
      "source": [
        "full = []\r\n",
        "for line in whole:\r\n",
        "  line = line.replace('<b_enamex TYPE=\"ORGANIZATION\">' ,'' )\r\n",
        "  line = line.replace('<b_enamex TYPE=\"LOCATION\">' ,'' )\r\n",
        "  line = line.replace('<b_enamex TYPE=\"PERSON\">' ,'' )\r\n",
        "  line = line.replace('<e_enamex>' ,'' )\r\n",
        "  line = line.replace('\\n', '')\r\n",
        "  line = line.replace(' \\'','\\'')\r\n",
        "  full.append(line)\r\n",
        "\r\n",
        "\r\n",
        "\r\n",
        "y_train = []\r\n",
        "\r\n",
        "for sent in full:\r\n",
        "  tokensent = str(sent).split()\r\n",
        "  for loc in loclist:\r\n",
        "      if loc in sent:\r\n",
        "        loc = str(loc).split()\r\n",
        "        for s in tokensent:\r\n",
        "          if loc[0] == s:\r\n",
        "            x = tokensent.index(s)\r\n",
        "            tokensent[x] = tokensent[x].replace(s,'B-LOCATION')          \r\n",
        "          else:\r\n",
        "            for i in range(1,len(loc)):\r\n",
        "              if(loc[i] == s):\r\n",
        "                x = tokensent.index(s)\r\n",
        "                tokensent[x] = tokensent[x].replace(s,'I-LOCATION')          \r\n",
        "    \r\n",
        "  for org in orglist:\r\n",
        "      if org in sent:\r\n",
        "        org = str(org).split()\r\n",
        "        for s in tokensent:\r\n",
        "          if org[0] == s:\r\n",
        "            x = tokensent.index(s)\r\n",
        "            tokensent[x] = tokensent[x].replace(s,'B-ORGANIZATION')          \r\n",
        "          else:\r\n",
        "            for i in range(1,len(org)):\r\n",
        "              if(org[i] == s):\r\n",
        "                x = tokensent.index(s)\r\n",
        "                tokensent[x] = tokensent[x].replace(s,'I-ORGANIZATION')     \r\n",
        "\r\n",
        "  for person in personlist:\r\n",
        "      if person in sent:\r\n",
        "        person = str(person).split()\r\n",
        "        for s in tokensent:\r\n",
        "          if person[0] == s:\r\n",
        "            x = tokensent.index(s)\r\n",
        "            tokensent[x] = tokensent[x].replace(s,'B-PERSON')          \r\n",
        "          else:\r\n",
        "            for i in range(1,len(person)):\r\n",
        "              if(person[i] == s):\r\n",
        "                x = tokensent.index(s)\r\n",
        "                tokensent[x] = tokensent[x].replace(s,'I-PERSON')  \r\n",
        "    \r\n",
        "  for s in tokensent:\r\n",
        "    if (((((s == 'B-LOCATION' or s == 'B-PERSON') or s == 'B-ORGANIZATION') or s == 'I-LOCATION') or s == 'I-PERSON') or s == 'I-ORGANIZATION'):\r\n",
        "      ;\r\n",
        "    else:\r\n",
        "      x = tokensent.index(s)\r\n",
        "      tokensent[x] = tokensent[x].replace(s,'O')\r\n",
        "\r\n",
        "\r\n",
        "  y_train.append(tokensent)    \r\n",
        "\r\n",
        "\r\n",
        "y_train1 = []\r\n",
        "y_train2 = []\r\n",
        "y_train3 = []\r\n",
        "y_train4 = []\r\n",
        "y_train5 = []\r\n",
        "i=1\r\n",
        "for element in y_train:\r\n",
        "    if i%5 == 1:\r\n",
        "      y_train1.append(element)\r\n",
        "    if i%5 == 2:\r\n",
        "      y_train2.append(element)\r\n",
        "    if i%5 == 3:\r\n",
        "      y_train3.append(element)\r\n",
        "    if i%5 == 4:\r\n",
        "      y_train4.append(element)\r\n",
        "    if i%5 == 0:\r\n",
        "      y_train5.append(element)\r\n",
        "    i += 1\r\n",
        "\r\n",
        "\r\n",
        "print(y_train[0])\r\n",
        " \r\n"
      ],
      "execution_count": 7,
      "outputs": [
        {
          "output_type": "stream",
          "text": [
            "['O', 'O', 'O', 'B-ORGANIZATION', 'I-ORGANIZATION', 'I-ORGANIZATION', 'I-ORGANIZATION', 'O', 'O', 'O', 'B-LOCATION', 'O', 'O', 'O', 'O', 'O', 'O', 'O', 'O', 'O', 'O']\n"
          ],
          "name": "stdout"
        }
      ]
    },
    {
      "cell_type": "code",
      "metadata": {
        "id": "VjPiAms_me5l",
        "colab": {
          "base_uri": "https://localhost:8080/"
        },
        "outputId": "c1b40b70-1476-4df5-fcfa-11fd7f002aee"
      },
      "source": [
        "crf = sklearn_crfsuite.CRF(\r\n",
        "    algorithm='lbfgs',\r\n",
        "    c1=0.1,\r\n",
        "    c2=0.1,\r\n",
        "    max_iterations=100,\r\n",
        "    all_possible_transitions=True\r\n",
        ")\r\n",
        "\r\n",
        "\r\n",
        "x_train1 = []\r\n",
        "x_train2 = []\r\n",
        "x_train3 = []\r\n",
        "x_train4 = []\r\n",
        "x_train5 = []\r\n",
        "\r\n",
        "Y_train1 = []\r\n",
        "Y_train2 = []\r\n",
        "Y_train3 = []\r\n",
        "Y_train4 = []\r\n",
        "Y_train5 = []\r\n",
        "\r\n",
        "count = 0\r\n",
        "\r\n",
        "for i in range(len(X_train1)):\r\n",
        "  if  len(X_train1[i]) == len(y_train1[i]):\r\n",
        "    count = count +1 \r\n",
        "    x_train1.append(X_train1[i])\r\n",
        "    Y_train1.append(y_train1[i])\r\n",
        "  \r\n",
        "  else:\r\n",
        "    count += 1  \r\n",
        "\r\n",
        "\r\n",
        "for i in range(len(X_train2)):\r\n",
        "  if  len(X_train2[i]) == len(y_train2[i]):\r\n",
        "    x_train2.append(X_train2[i])\r\n",
        "    Y_train2.append(y_train2[i])\r\n",
        "  \r\n",
        "  else:\r\n",
        "    count += 1\r\n",
        "\r\n",
        "\r\n",
        "for i in range(len(X_train3)):\r\n",
        "  if  len(X_train3[i]) == len(y_train3[i]):\r\n",
        "    x_train3.append(X_train3[i])\r\n",
        "    Y_train3.append(y_train3[i])  \r\n",
        "\r\n",
        "  else:\r\n",
        "    count += 1\r\n",
        "\r\n",
        "\r\n",
        "for i in range(len(X_train4)):\r\n",
        "  if  len(X_train4[i]) == len(y_train4[i]):\r\n",
        "    x_train4.append(X_train4[i])\r\n",
        "    Y_train4.append(y_train4[i])\r\n",
        "\r\n",
        "  else:\r\n",
        "    count += 1\r\n",
        "\r\n",
        "\r\n",
        "for i in range(len(X_train5)):\r\n",
        "  if  len(X_train5[i]) == len(y_train5[i]):\r\n",
        "    x_train5.append(X_train5[i])\r\n",
        "    Y_train5.append(y_train5[i])\r\n",
        "  \r\n",
        "  else:\r\n",
        "    count += 1\r\n",
        "\r\n",
        "print(count)"
      ],
      "execution_count": 8,
      "outputs": [
        {
          "output_type": "stream",
          "text": [
            "2373\n"
          ],
          "name": "stdout"
        }
      ]
    },
    {
      "cell_type": "code",
      "metadata": {
        "id": "ZDFSnSwW-quQ"
      },
      "source": [
        "X_train_fold1 = x_train2 + x_train3 + x_train4 + x_train5\r\n",
        "y_train_fold1 = Y_train2 + Y_train3 + Y_train4 + Y_train5\r\n",
        "X_test_fold1 = x_train1\r\n",
        "y_test_fold1 = Y_train1\r\n",
        "\r\n",
        "\r\n",
        "X_train_fold2 = x_train1 + x_train3 + x_train4 + x_train5\r\n",
        "y_train_fold2 = Y_train1 + Y_train3 + Y_train4 + Y_train5\r\n",
        "X_test_fold2 = x_train2\r\n",
        "y_test_fold2 = Y_train2\r\n",
        "\r\n",
        "\r\n",
        "X_train_fold3 = x_train1 + x_train2 + x_train4 + x_train5\r\n",
        "y_train_fold3 = Y_train1 + Y_train2 + Y_train4 + Y_train5\r\n",
        "X_test_fold3 = x_train3\r\n",
        "y_test_fold3 = Y_train3\r\n",
        "\r\n",
        "\r\n",
        "X_train_fold4 = x_train1 + x_train2 + x_train3 + x_train5\r\n",
        "y_train_fold4 = Y_train1 + Y_train2 + Y_train3 + Y_train5\r\n",
        "X_test_fold4 = x_train4\r\n",
        "y_test_fold4 = Y_train4\r\n",
        "\r\n",
        "\r\n",
        "X_train_fold5 = x_train1 + x_train2 + x_train3 + x_train4\r\n",
        "y_train_fold5 = Y_train1 + Y_train2 + Y_train3 + Y_train4\r\n",
        "X_test_fold5 = x_train5\r\n",
        "y_test_fold5 = Y_train5"
      ],
      "execution_count": 9,
      "outputs": []
    },
    {
      "cell_type": "code",
      "metadata": {
        "id": "HI4IsOiL-Yq2"
      },
      "source": [
        "crf1 = crf.fit(X_train_fold1, y_train_fold1)"
      ],
      "execution_count": 10,
      "outputs": []
    },
    {
      "cell_type": "code",
      "metadata": {
        "colab": {
          "base_uri": "https://localhost:8080/"
        },
        "id": "xRwrftdIhW_k",
        "outputId": "75539170-1c24-4308-c134-ab728a0e4bdd"
      },
      "source": [
        "labels = list(crf.classes_)\r\n",
        "labels.remove('O')\r\n",
        "labels"
      ],
      "execution_count": 11,
      "outputs": [
        {
          "output_type": "execute_result",
          "data": {
            "text/plain": [
              "['B-LOCATION',\n",
              " 'B-PERSON',\n",
              " 'I-PERSON',\n",
              " 'B-ORGANIZATION',\n",
              " 'I-ORGANIZATION',\n",
              " 'I-LOCATION']"
            ]
          },
          "metadata": {
            "tags": []
          },
          "execution_count": 11
        }
      ]
    },
    {
      "cell_type": "code",
      "metadata": {
        "colab": {
          "base_uri": "https://localhost:8080/"
        },
        "id": "8Pqe2RJnzOMi",
        "outputId": "5d5bb28a-83e6-4633-bc83-1acc78f5c2d1"
      },
      "source": [
        "y_pred = crf1.predict(X_test_fold1)\r\n",
        "f1_score_fold1 = metrics.flat_f1_score(y_test_fold1, y_pred, average='weighted', labels=labels)\r\n",
        "print(f1_score_fold1)\r\n",
        "\r\n",
        "sorted_labels = sorted(\r\n",
        "    labels,\r\n",
        "    key=lambda name: (name[1:], name[0])\r\n",
        ")\r\n",
        "\r\n",
        "print(metrics.flat_classification_report(\r\n",
        "    y_test_fold1, y_pred, labels=sorted_labels, digits=3\r\n",
        "))"
      ],
      "execution_count": 12,
      "outputs": [
        {
          "output_type": "stream",
          "text": [
            "0.8603052792607571\n",
            "                precision    recall  f1-score   support\n",
            "\n",
            "    B-LOCATION      0.934     0.917     0.925       480\n",
            "    I-LOCATION      0.500     0.286     0.364        28\n",
            "B-ORGANIZATION      0.930     0.720     0.812       446\n",
            "I-ORGANIZATION      0.768     0.684     0.724       228\n",
            "      B-PERSON      0.908     0.888     0.898       890\n",
            "      I-PERSON      0.853     0.883     0.868       283\n",
            "\n",
            "     micro avg      0.894     0.834     0.863      2355\n",
            "     macro avg      0.816     0.730     0.765      2355\n",
            "  weighted avg      0.893     0.834     0.860      2355\n",
            "\n"
          ],
          "name": "stdout"
        }
      ]
    },
    {
      "cell_type": "code",
      "metadata": {
        "id": "dJ0Tc8WgApPn"
      },
      "source": [
        "crf2 = crf.fit(X_train_fold2, y_train_fold2)"
      ],
      "execution_count": 13,
      "outputs": []
    },
    {
      "cell_type": "code",
      "metadata": {
        "colab": {
          "base_uri": "https://localhost:8080/"
        },
        "id": "e8X2AhaDj4gi",
        "outputId": "f670acb0-ee57-442d-86bc-60c8a6f4dccc"
      },
      "source": [
        "y_pred = crf2.predict(X_test_fold2)\r\n",
        "f1_score_fold2 = metrics.flat_f1_score(y_test_fold2, y_pred, average='weighted', labels=labels)\r\n",
        "print(f1_score_fold2)\r\n",
        "\r\n",
        "sorted_labels = sorted(\r\n",
        "    labels,\r\n",
        "    key=lambda name: (name[1:], name[0])\r\n",
        ")\r\n",
        "print(metrics.flat_classification_report(\r\n",
        "    y_test_fold2, y_pred, labels=sorted_labels, digits=3\r\n",
        "))"
      ],
      "execution_count": 14,
      "outputs": [
        {
          "output_type": "stream",
          "text": [
            "0.8622323890579712\n",
            "                precision    recall  f1-score   support\n",
            "\n",
            "    B-LOCATION      0.943     0.915     0.929       492\n",
            "    I-LOCATION      0.500     0.550     0.524        20\n",
            "B-ORGANIZATION      0.881     0.715     0.789       361\n",
            "I-ORGANIZATION      0.689     0.737     0.712       198\n",
            "      B-PERSON      0.911     0.880     0.895       937\n",
            "      I-PERSON      0.831     0.890     0.860       292\n",
            "\n",
            "     micro avg      0.877     0.848     0.862      2300\n",
            "     macro avg      0.792     0.781     0.785      2300\n",
            "  weighted avg      0.880     0.848     0.862      2300\n",
            "\n"
          ],
          "name": "stdout"
        }
      ]
    },
    {
      "cell_type": "code",
      "metadata": {
        "id": "hwUfUFtmAwch"
      },
      "source": [
        "crf3 = crf.fit(X_train_fold3, y_train_fold3)"
      ],
      "execution_count": 15,
      "outputs": []
    },
    {
      "cell_type": "code",
      "metadata": {
        "colab": {
          "base_uri": "https://localhost:8080/"
        },
        "id": "-5qGHMBr_6qn",
        "outputId": "68f2616a-5e50-44f0-fdb3-623f2c079b56"
      },
      "source": [
        "y_pred = crf3.predict(X_test_fold3)\r\n",
        "f1_score_fold3 = metrics.flat_f1_score(y_test_fold3, y_pred, average='weighted', labels=labels)\r\n",
        "print(f1_score_fold3)\r\n",
        "\r\n",
        "sorted_labels = sorted(\r\n",
        "    labels,\r\n",
        "    key=lambda name: (name[1:], name[0])\r\n",
        ")\r\n",
        "print(metrics.flat_classification_report(\r\n",
        "    y_test_fold3, y_pred, labels=sorted_labels, digits=3\r\n",
        "))"
      ],
      "execution_count": 16,
      "outputs": [
        {
          "output_type": "stream",
          "text": [
            "0.8573464442121052\n",
            "                precision    recall  f1-score   support\n",
            "\n",
            "    B-LOCATION      0.919     0.926     0.922       488\n",
            "    I-LOCATION      0.565     0.433     0.491        30\n",
            "B-ORGANIZATION      0.896     0.765     0.825       370\n",
            "I-ORGANIZATION      0.714     0.725     0.719       182\n",
            "      B-PERSON      0.892     0.871     0.882       933\n",
            "      I-PERSON      0.858     0.816     0.836       310\n",
            "\n",
            "     micro avg      0.876     0.841     0.858      2313\n",
            "     macro avg      0.807     0.756     0.779      2313\n",
            "  weighted avg      0.875     0.841     0.857      2313\n",
            "\n"
          ],
          "name": "stdout"
        }
      ]
    },
    {
      "cell_type": "code",
      "metadata": {
        "id": "hKzUiUF3BWqC"
      },
      "source": [
        "crf4 = crf.fit(X_train_fold4, y_train_fold4)"
      ],
      "execution_count": 17,
      "outputs": []
    },
    {
      "cell_type": "code",
      "metadata": {
        "colab": {
          "base_uri": "https://localhost:8080/"
        },
        "id": "ZiPXAtydAJ7I",
        "outputId": "079bdf03-8015-472c-fa14-6d7cea2d6f61"
      },
      "source": [
        "y_pred = crf.predict(X_test_fold4)\r\n",
        "f1_score_fold4 = metrics.flat_f1_score(y_test_fold4, y_pred, average='weighted', labels=labels)\r\n",
        "print(f1_score_fold4)\r\n",
        "\r\n",
        "sorted_labels = sorted(\r\n",
        "    labels,\r\n",
        "    key=lambda name: (name[1:], name[0])\r\n",
        ")\r\n",
        "print(metrics.flat_classification_report(\r\n",
        "    y_test_fold4, y_pred, labels=sorted_labels, digits=3\r\n",
        "))"
      ],
      "execution_count": 18,
      "outputs": [
        {
          "output_type": "stream",
          "text": [
            "0.8519396672433779\n",
            "                precision    recall  f1-score   support\n",
            "\n",
            "    B-LOCATION      0.952     0.885     0.917       495\n",
            "    I-LOCATION      0.880     0.478     0.620        46\n",
            "B-ORGANIZATION      0.914     0.752     0.825       423\n",
            "I-ORGANIZATION      0.794     0.733     0.762       210\n",
            "      B-PERSON      0.885     0.870     0.878       933\n",
            "      I-PERSON      0.733     0.862     0.792       261\n",
            "\n",
            "     micro avg      0.875     0.832     0.853      2368\n",
            "     macro avg      0.860     0.763     0.799      2368\n",
            "  weighted avg      0.879     0.832     0.852      2368\n",
            "\n"
          ],
          "name": "stdout"
        }
      ]
    },
    {
      "cell_type": "code",
      "metadata": {
        "id": "jGohDgjZBiHd"
      },
      "source": [
        "crf5 = crf.fit(X_train_fold5, y_train_fold5)"
      ],
      "execution_count": 19,
      "outputs": []
    },
    {
      "cell_type": "code",
      "metadata": {
        "colab": {
          "base_uri": "https://localhost:8080/"
        },
        "id": "TLoKb7tqANFZ",
        "outputId": "3613afe7-1151-49e1-dd64-0b251ffd5445"
      },
      "source": [
        "y_pred = crf.predict(X_test_fold5)\r\n",
        "f1_score_fold5 = metrics.flat_f1_score(y_test_fold5, y_pred, average='weighted', labels=labels)\r\n",
        "print(f1_score_fold5)\r\n",
        "\r\n",
        "\r\n",
        "sorted_labels = sorted(\r\n",
        "    labels,\r\n",
        "    key=lambda name: (name[1:], name[0])\r\n",
        ")\r\n",
        "print(metrics.flat_classification_report(\r\n",
        "    y_test_fold5, y_pred, labels=sorted_labels, digits=3\r\n",
        "))"
      ],
      "execution_count": 20,
      "outputs": [
        {
          "output_type": "stream",
          "text": [
            "0.847699692593214\n",
            "                precision    recall  f1-score   support\n",
            "\n",
            "    B-LOCATION      0.926     0.882     0.903       524\n",
            "    I-LOCATION      0.375     0.243     0.295        37\n",
            "B-ORGANIZATION      0.912     0.766     0.833       367\n",
            "I-ORGANIZATION      0.674     0.674     0.674       178\n",
            "      B-PERSON      0.908     0.851     0.879       968\n",
            "      I-PERSON      0.808     0.874     0.839       293\n",
            "\n",
            "     micro avg      0.874     0.825     0.849      2367\n",
            "     macro avg      0.767     0.715     0.737      2367\n",
            "  weighted avg      0.874     0.825     0.848      2367\n",
            "\n"
          ],
          "name": "stdout"
        }
      ]
    },
    {
      "cell_type": "code",
      "metadata": {
        "colab": {
          "base_uri": "https://localhost:8080/"
        },
        "id": "O-vZ6j1hBtF-",
        "outputId": "6e79b95b-bcab-462b-f725-188abd1b4d50"
      },
      "source": [
        "avg_f1_score = (f1_score_fold1 + f1_score_fold2 + f1_score_fold3 + f1_score_fold4 + f1_score_fold5)/5\r\n",
        "print(avg_f1_score)"
      ],
      "execution_count": 21,
      "outputs": [
        {
          "output_type": "stream",
          "text": [
            "0.855904694473485\n"
          ],
          "name": "stdout"
        }
      ]
    },
    {
      "cell_type": "code",
      "metadata": {
        "id": "3nckTZjMd8TC"
      },
      "source": [
        ""
      ],
      "execution_count": 207,
      "outputs": []
    }
  ]
}